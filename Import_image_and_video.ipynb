{
  "nbformat": 4,
  "nbformat_minor": 0,
  "metadata": {
    "colab": {
      "name": "Import_image_and_video.ipynb",
      "version": "0.3.2",
      "provenance": [],
      "collapsed_sections": [],
      "include_colab_link": true
    },
    "kernelspec": {
      "name": "python3",
      "display_name": "Python 3"
    }
  },
  "cells": [
    {
      "cell_type": "markdown",
      "metadata": {
        "id": "view-in-github",
        "colab_type": "text"
      },
      "source": [
        "<a href=\"https://colab.research.google.com/github/JaledMC/ESP12-PCB-example/blob/master/Import_image_and_video.ipynb\" target=\"_parent\"><img src=\"https://colab.research.google.com/assets/colab-badge.svg\" alt=\"Open In Colab\"/></a>"
      ]
    },
    {
      "metadata": {
        "id": "pwsaL_AEw5mv",
        "colab_type": "text"
      },
      "cell_type": "markdown",
      "source": [
        "# Import_image_and_video.ipynb\n",
        "\n",
        "This notebook explains how to import and save images and videos, from local folders or usb cameras, with OpenCV. If you don't have the needed libraries, run the next block."
      ]
    },
    {
      "metadata": {
        "id": "jB5nQh9Kez5_",
        "colab_type": "code",
        "colab": {}
      },
      "cell_type": "code",
      "source": [
        "!apt-get -qq install -y libsm6 libxext6 && pip3 install -q -U opencv-python\n",
        "!pip3 install -q matplotlib\n",
        "!pip3 install -q numpy\n",
        "!pip3 install -q requests"
      ],
      "execution_count": 0,
      "outputs": []
    },
    {
      "metadata": {
        "id": "0dqORZy1kHjJ",
        "colab_type": "text"
      },
      "cell_type": "markdown",
      "source": [
        "Import the libraries"
      ]
    },
    {
      "metadata": {
        "id": "lvYWtetggLE_",
        "colab_type": "code",
        "colab": {}
      },
      "cell_type": "code",
      "source": [
        "import cv2\n",
        "import numpy as np\n",
        "import matplotlib.pyplot as plt"
      ],
      "execution_count": 0,
      "outputs": []
    },
    {
      "metadata": {
        "id": "7I_jPTvVw1pe",
        "colab_type": "text"
      },
      "cell_type": "markdown",
      "source": [
        "## Download images\n",
        "\n",
        "To use the github images, first download the image to local folder."
      ]
    },
    {
      "metadata": {
        "id": "DNO60FqWu2U2",
        "colab_type": "code",
        "outputId": "960fe710-1a67-497d-a25a-73ad606f877c",
        "colab": {
          "base_uri": "https://localhost:8080/",
          "height": 230
        }
      },
      "cell_type": "code",
      "source": [
        "from PIL import Image\n",
        "import requests\n",
        "from io import BytesIO\n",
        "\n",
        "response = requests.get('https://raw.githubusercontent.com/JaledMC/Learning-Artificial-Vision/master/images/origami.png')\n",
        "img = Image.open(BytesIO(response.content))\n",
        "img.save(\"origami.png\")\n",
        "# Represent the image\n",
        "fig, axes = plt.subplots(1, 1, figsize=(4, 4))\n",
        "axes.imshow(img)\n",
        "axes.set_title('Original')\n",
        "plt.axis(\"off\");"
      ],
      "execution_count": 0,
      "outputs": [
        {
          "output_type": "display_data",
          "data": {
            "image/png": "[encoded data removed]",
            "text/plain": [
              "<matplotlib.figure.Figure at 0x7fe43a2ca518>"
            ]
          },
          "metadata": {
            "tags": []
          }
        }
      ]
    },
    {
      "metadata": {
        "id": "FcZnD66qk3UN",
        "colab_type": "text"
      },
      "cell_type": "markdown",
      "source": [
        "## Import a local image\n",
        "\n",
        "Now OpenCV part beginnings. We can import the image in black and white, or convert it later.  It's better to use an absolute path. "
      ]
    },
    {
      "metadata": {
        "id": "d1RckNhiETeN",
        "colab_type": "code",
        "colab": {}
      },
      "cell_type": "code",
      "source": [
        "image_gray = cv2.imread('/images/origami.png', cv2.IMREAD_GRAYSCALE)\n",
        "image_color = cv2.imread('/images/origami.png')"
      ],
      "execution_count": 0,
      "outputs": []
    },
    {
      "metadata": {
        "id": "SFlXfRk7k7TZ",
        "colab_type": "code",
        "colab": {}
      },
      "cell_type": "code",
      "source": [
        "image_gray = cv2.imread('origami.png', cv2.IMREAD_GRAYSCALE)\n",
        "image_color = cv2.imread('origami.png')\n",
        "\n",
        "image_gray = cv2.cvtColor(image_color, cv2.COLOR_BGR2GRAY)"
      ],
      "execution_count": 0,
      "outputs": []
    },
    {
      "metadata": {
        "id": "t8Wmj3vSlG5y",
        "colab_type": "code",
        "outputId": "2e7056b1-b212-4d1d-9253-277bcbe73bc2",
        "colab": {
          "base_uri": "https://localhost:8080/",
          "height": 309
        }
      },
      "cell_type": "code",
      "source": [
        "# Represent with matplotlib the image. We can obtain his pixel values and coordinates.\n",
        "fig, axes = plt.subplots(1, 2, figsize=(12, 12))\n",
        "axes[0].imshow(image_color)\n",
        "axes[0].set_title('Color')\n",
        "axes[1].imshow(image_gray)\n",
        "axes[1].set_title('Gray')\n",
        "for ax in axes:\n",
        "    ax.set_xticks([])\n",
        "    ax.set_yticks([])\n",
        "\n",
        "# image information\n",
        "print(\"Color image: \", image_color.shape, image_color.shape, image_color.dtype)\n",
        "print(\"Gray image: \", image_gray.shape, image_gray.shape, image_gray.dtype)"
      ],
      "execution_count": 0,
      "outputs": [
        {
          "output_type": "stream",
          "text": [
            "Color image:  (1439, 1920, 3) (1439, 1920, 3) uint8\n",
            "Gray image:  (1439, 1920) (1439, 1920) uint8\n"
          ],
          "name": "stdout"
        },
        {
          "output_type": "display_data",
          "data": {
            "image/png": "[encoded data removed]",
            "text/plain": [
              "<matplotlib.figure.Figure at 0x7fe439dfcac8>"
            ]
          },
          "metadata": {
            "tags": []
          }
        }
      ]
    },
    {
      "metadata": {
        "id": "vDRSalDt2IeL",
        "colab_type": "text"
      },
      "cell_type": "markdown",
      "source": [
        "We can see how gray image is only a two dimensional matrix, which refers to intensity valued, while color image is a stack of 3 matrix with the blue, green and red valued. But, what happens? The colors are not the same as original image. Well, while most programs use a red-green-blue (RGB) representation, OpenCV use blue-green-red (BGR) form. Because of that, we have to change the image like with the gray transformation.\n",
        "\n"
      ]
    },
    {
      "metadata": {
        "id": "XChAZTpvnCnx",
        "colab_type": "code",
        "outputId": "853ce1c9-bd68-4ade-9922-1a2e535d6f4d",
        "colab": {
          "base_uri": "https://localhost:8080/",
          "height": 274
        }
      },
      "cell_type": "code",
      "source": [
        "image_color = cv2.cvtColor(image_color, cv2.COLOR_BGR2RGB)\n",
        "\n",
        "# Represent with matplotlib the image. We can obtain his pixel values and coordinates.\n",
        "fig, axes = plt.subplots(1, 2, figsize=(12, 12))\n",
        "axes[0].imshow(image_color)\n",
        "axes[0].set_title('True colors')\n",
        "axes[1].imshow(image_gray)\n",
        "axes[1].set_title('Gray')\n",
        "for ax in axes:\n",
        "    ax.set_xticks([])\n",
        "    ax.set_yticks([])"
      ],
      "execution_count": 0,
      "outputs": [
        {
          "output_type": "display_data",
          "data": {
            "image/png": "[encoded data removed]",
            "text/plain": [
              "<matplotlib.figure.Figure at 0x7fe4421f3588>"
            ]
          },
          "metadata": {
            "tags": []
          }
        }
      ]
    },
    {
      "metadata": {
        "id": "XOtOOFWo4VQM",
        "colab_type": "text"
      },
      "cell_type": "markdown",
      "source": [
        "That seems better. To save the image:"
      ]
    },
    {
      "metadata": {
        "id": "VTZm58N_uYjw",
        "colab_type": "code",
        "outputId": "7b748c91-a207-40c0-e15f-1217ef1f3c2f",
        "colab": {
          "base_uri": "https://localhost:8080/",
          "height": 34
        }
      },
      "cell_type": "code",
      "source": [
        "cv2.imwrite('saved_image.png', image_color)"
      ],
      "execution_count": 0,
      "outputs": [
        {
          "output_type": "execute_result",
          "data": {
            "text/plain": [
              "True"
            ]
          },
          "metadata": {
            "tags": []
          },
          "execution_count": 6
        }
      ]
    },
    {
      "metadata": {
        "id": "71KjTdeU4i8r",
        "colab_type": "text"
      },
      "cell_type": "markdown",
      "source": [
        "## Import a local video\n",
        "\n",
        "As the same example, download the video to local folder."
      ]
    },
    {
      "metadata": {
        "id": "3h9WLtRGq8Aj",
        "colab_type": "code",
        "colab": {}
      },
      "cell_type": "code",
      "source": [
        "\"\"\"response = requests.get('https://raw.githubusercontent.com/JaledMC/Learning-Artificial-Vision/master/images/dog_video.mp4')\n",
        "with open('dog.mp4', 'wb') as f:\n",
        "    f.write(response.content)  \"\"\""
      ],
      "execution_count": 0,
      "outputs": []
    },
    {
      "metadata": {
        "id": "29IVoSNdrvOF",
        "colab_type": "text"
      },
      "cell_type": "markdown",
      "source": [
        "Now import the video with VideoCapture, and show frame by frame with a loop. The waitKey command is needed after the imshow, and it can adjusts the play speed. We can exit the video typing 'q' key. In that case, release video object and close all windows. **Video code doesn't work on Google Colab, because program runs in a VM. Use a local Jupyter Notebook for this.** If you want more information about how to play videos on Colab, this [link](https://github.com/bikz05/ipython-notebooks/blob/master/computer-vision/displaying-video-in-ipython-notebook.ipynb) and this [link](https://medium.com/@neotheicebird/webcam-based-image-processing-in-ipython-notebooks-47c75a022514) can help you."
      ]
    },
    {
      "metadata": {
        "id": "rlcYE8U4qoZ3",
        "colab_type": "code",
        "colab": {}
      },
      "cell_type": "code",
      "source": [
        "\"\"\"# Import the video\n",
        "cap = cv2.VideoCapture('dog.mp4')\n",
        "speed = 25\n",
        "exit_key = 'q'\n",
        "while(cap.isOpened()):\n",
        "    ret, frame = cap.read()\n",
        "    cv2.imshow('frame', frame)\n",
        "    # Play speed of the video can be adjust with waitKey time. 25 is the standard. Exit with 'q' key\n",
        "    if cv2.waitKey(speed) & 0xFF == ord(exit_key):\n",
        "        break\n",
        "cap.release()\n",
        "cv2.destroyAllWindows()\"\"\""
      ],
      "execution_count": 0,
      "outputs": []
    },
    {
      "metadata": {
        "id": "4qiK28uwv2pn",
        "colab_type": "text"
      },
      "cell_type": "markdown",
      "source": [
        "# USB camera\n",
        "\n",
        "Access the video camera content is like play any local video, but we use the number channel ot the camera."
      ]
    },
    {
      "metadata": {
        "id": "2XVTnxvev4lI",
        "colab_type": "code",
        "outputId": "ff009162-d398-4c5b-db3b-6f8996a87ee5",
        "colab": {
          "base_uri": "https://localhost:8080/",
          "height": 236
        }
      },
      "cell_type": "code",
      "source": [
        "\"\"\"cap = cv2.VideoCapture(1)\n",
        "while(True):\n",
        "    _, frame = cap.read()\n",
        "    cv2.imshow('frame',frame)\n",
        "    if cv2.waitKey(1) & 0xFF == ord('q'):\n",
        "        break\n",
        "\n",
        "cap.release()\n",
        "cv2.destroyAllWindows()\"\"\""
      ],
      "execution_count": 0,
      "outputs": [
        {
          "output_type": "error",
          "ename": "error",
          "evalue": "ignored",
          "traceback": [
            "\u001b[0;31m---------------------------------------------------------------------------\u001b[0m",
            "\u001b[0;31merror\u001b[0m                                     Traceback (most recent call last)",
            "\u001b[0;32m<ipython-input-12-79a00319f567>\u001b[0m in \u001b[0;36m<module>\u001b[0;34m()\u001b[0m\n\u001b[1;32m      5\u001b[0m \u001b[0;32mwhile\u001b[0m\u001b[0;34m(\u001b[0m\u001b[0;32mTrue\u001b[0m\u001b[0;34m)\u001b[0m\u001b[0;34m:\u001b[0m\u001b[0;34m\u001b[0m\u001b[0;34m\u001b[0m\u001b[0m\n\u001b[1;32m      6\u001b[0m     \u001b[0m_\u001b[0m\u001b[0;34m,\u001b[0m \u001b[0mframe\u001b[0m \u001b[0;34m=\u001b[0m \u001b[0mcap\u001b[0m\u001b[0;34m.\u001b[0m\u001b[0mread\u001b[0m\u001b[0;34m(\u001b[0m\u001b[0;34m)\u001b[0m\u001b[0;34m\u001b[0m\u001b[0;34m\u001b[0m\u001b[0m\n\u001b[0;32m----> 7\u001b[0;31m     \u001b[0mcv2\u001b[0m\u001b[0;34m.\u001b[0m\u001b[0mimshow\u001b[0m\u001b[0;34m(\u001b[0m\u001b[0;34m'frame'\u001b[0m\u001b[0;34m,\u001b[0m\u001b[0mframe\u001b[0m\u001b[0;34m)\u001b[0m\u001b[0;34m\u001b[0m\u001b[0;34m\u001b[0m\u001b[0m\n\u001b[0m\u001b[1;32m      8\u001b[0m     \u001b[0;32mif\u001b[0m \u001b[0mcv2\u001b[0m\u001b[0;34m.\u001b[0m\u001b[0mwaitKey\u001b[0m\u001b[0;34m(\u001b[0m\u001b[0;36m1\u001b[0m\u001b[0;34m)\u001b[0m \u001b[0;34m&\u001b[0m \u001b[0;36m0xFF\u001b[0m \u001b[0;34m==\u001b[0m \u001b[0mord\u001b[0m\u001b[0;34m(\u001b[0m\u001b[0;34m'q'\u001b[0m\u001b[0;34m)\u001b[0m\u001b[0;34m:\u001b[0m\u001b[0;34m\u001b[0m\u001b[0;34m\u001b[0m\u001b[0m\n\u001b[1;32m      9\u001b[0m         \u001b[0;32mbreak\u001b[0m\u001b[0;34m\u001b[0m\u001b[0;34m\u001b[0m\u001b[0m\n",
            "\u001b[0;31merror\u001b[0m: OpenCV(3.4.3) /io/opencv/modules/highgui/src/window.cpp:356: error: (-215:Assertion failed) size.width>0 && size.height>0 in function 'imshow'\n"
          ]
        }
      ]
    },
    {
      "metadata": {
        "id": "OkirlOii--dM",
        "colab_type": "text"
      },
      "cell_type": "markdown",
      "source": [
        "## Capture an image with webcam\n",
        "Use the key codes to execute different commands, in this case, take a shoot and save it. The only problem is know the number code of each key."
      ]
    },
    {
      "metadata": {
        "id": "p8LLedNZ6W-s",
        "colab_type": "code",
        "colab": {}
      },
      "cell_type": "code",
      "source": [
        "\"\"\"cap = cv2.VideoCapture(1)\n",
        "\n",
        "while True:\n",
        "    ret, video = cap.read()\n",
        "    gray = cv2.cvtColor(video, cv2.COLOR_BGR2GRAY)\n",
        "    cv2.imshow('Video', gray)\n",
        "    \n",
        "    k = cv2.waitKey(30) & 0xff\n",
        "    if k == 113: # q\n",
        "        frame = gray.copy()\n",
        "        cv2.imshow('Frame', frame)\n",
        "    if k == 27: # Esc\n",
        "        break\n",
        "        \n",
        "cv2.imwrite('saved_image.png', frame)\n",
        "cap.release()\n",
        "cv2.destroyAllWindows()\"\"\""
      ],
      "execution_count": 0,
      "outputs": []
    },
    {
      "metadata": {
        "id": "JeQU6odCBBg5",
        "colab_type": "text"
      },
      "cell_type": "markdown",
      "source": [
        "To save a webcam video, create a video object with proper codecs (dependant of the OS) and size. When loop finish the video is saved."
      ]
    },
    {
      "metadata": {
        "id": "cLL8O5SjBAS1",
        "colab_type": "code",
        "colab": {}
      },
      "cell_type": "code",
      "source": [
        "\"\"\"# Save a video. Codec is dependant of the OS\n",
        "cap = cv2.VideoCapture(1)\n",
        "# Define the codec and create VideoWriter object\n",
        "fourcc = cv2.VideoWriter_fourcc(*'XVID')\n",
        "out = cv2.VideoWriter('output.avi',fourcc, 20.0, (640,480))  # name, codec, fps, frame size\n",
        "\n",
        "while(True):\n",
        "    _, frame = cap.read()\n",
        "    out.write(frame);\n",
        "    cv2.imshow('frame',frame)\n",
        "    if cv2.waitKey(1) & 0xFF == ord('q'):\n",
        "        break\n",
        "\n",
        "cap.release()\n",
        "cv2.destroyAllWindows()\"\"\""
      ],
      "execution_count": 0,
      "outputs": []
    }
  ]
}